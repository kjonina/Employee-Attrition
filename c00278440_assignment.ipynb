{
 "cells": [
  {
   "cell_type": "markdown",
   "id": "3706105d",
   "metadata": {},
   "source": [
    "# Assignment\n",
    "\n",
    "- Student Name: Karina Jonina\n",
    "- Student Code: c00278440\n",
    "- Module Title: Data Analytics and Algorithms\n",
    "- Module Code: ANALC5201\n",
    "- Module Leader: Greg Doyle\n",
    "- Course Name: Master of Science in Data Science\n",
    "- Course Code: CW_KCDAR_M\n",
    "- Assignment Weighting: 100%\n",
    "- Due Date: 20th April 2022 12:00\n",
    "\n"
   ]
  },
  {
   "cell_type": "markdown",
   "id": "7d290253",
   "metadata": {},
   "source": [
    "## Introduction"
   ]
  },
  {
   "cell_type": "markdown",
   "id": "718f74f8",
   "metadata": {},
   "source": [
    "Following the CRISP-M model"
   ]
  },
  {
   "cell_type": "markdown",
   "id": "3f85b05f",
   "metadata": {},
   "source": [
    "## Business Understanding"
   ]
  },
  {
   "cell_type": "code",
   "execution_count": null,
   "id": "f1d1e9d1",
   "metadata": {},
   "outputs": [],
   "source": []
  },
  {
   "cell_type": "markdown",
   "id": "711f11a5",
   "metadata": {},
   "source": [
    "## Data Understanding\n",
    "\n",
    "The dataset consists of past and current employees in a spreadsheet. Dataset was downloaded from https://www.kaggle.com/patelprashant/employee-attrition\n",
    "\n",
    "According to Kaggle Description, the dataset was previously avaiable on IBM, however, it has been since taken down. \n",
    "https://www.ibm.com/communities/analytics/watson-analytics-blog/watson-analytics-use-case-for-hr-retaining-valuable-employees/\n",
    "\n",
    "Research Question:\n",
    "- Determine which factors keep employees at my company and which prompt others to leave?\n",
    "- Which employees are likely to leave next?"
   ]
  },
  {
   "cell_type": "code",
   "execution_count": 1,
   "id": "744aa921",
   "metadata": {},
   "outputs": [],
   "source": [
    "import numpy as np\n",
    "import pandas as pd"
   ]
  },
  {
   "cell_type": "code",
   "execution_count": 2,
   "id": "bebf59af",
   "metadata": {},
   "outputs": [],
   "source": [
    "# read the CSV file\n",
    "df = pd.read_csv('HR-Employee-Attrition.csv')"
   ]
  },
  {
   "cell_type": "code",
   "execution_count": 3,
   "id": "efca1304",
   "metadata": {},
   "outputs": [
    {
     "name": "stdout",
     "output_type": "stream",
     "text": [
      "                                        0\n",
      "Age                                    41\n",
      "Attrition                             Yes\n",
      "BusinessTravel              Travel_Rarely\n",
      "DailyRate                            1102\n",
      "Department                          Sales\n",
      "DistanceFromHome                        1\n",
      "Education                               2\n",
      "EducationField              Life Sciences\n",
      "EmployeeCount                           1\n",
      "EmployeeNumber                          1\n",
      "EnvironmentSatisfaction                 2\n",
      "Gender                             Female\n",
      "HourlyRate                             94\n",
      "JobInvolvement                          3\n",
      "JobLevel                                2\n",
      "JobRole                   Sales Executive\n",
      "JobSatisfaction                         4\n",
      "MaritalStatus                      Single\n",
      "MonthlyIncome                        5993\n",
      "MonthlyRate                         19479\n",
      "NumCompaniesWorked                      8\n",
      "Over18                                  Y\n",
      "OverTime                              Yes\n",
      "PercentSalaryHike                      11\n",
      "PerformanceRating                       3\n",
      "RelationshipSatisfaction                1\n",
      "StandardHours                          80\n",
      "StockOptionLevel                        0\n",
      "TotalWorkingYears                       8\n",
      "TrainingTimesLastYear                   0\n",
      "WorkLifeBalance                         1\n",
      "YearsAtCompany                          6\n",
      "YearsInCurrentRole                      4\n",
      "YearsSinceLastPromotion                 0\n",
      "YearsWithCurrManager                    5\n"
     ]
    }
   ],
   "source": [
    "# prints out the first row for the dataset\n",
    "print(df.head(1).transpose())"
   ]
  },
  {
   "cell_type": "code",
   "execution_count": 4,
   "id": "48de372b",
   "metadata": {},
   "outputs": [
    {
     "name": "stdout",
     "output_type": "stream",
     "text": [
      "The df has 1470 rows and 35 columns.\n"
     ]
    }
   ],
   "source": [
    "# checking the df shape\n",
    "print('The df has {} rows and {} columns.'.format(*df.shape))"
   ]
  },
  {
   "cell_type": "code",
   "execution_count": 5,
   "id": "17237a1a",
   "metadata": {},
   "outputs": [
    {
     "name": "stdout",
     "output_type": "stream",
     "text": [
      "Index(['Age', 'Attrition', 'BusinessTravel', 'DailyRate', 'Department',\n",
      "       'DistanceFromHome', 'Education', 'EducationField', 'EmployeeCount',\n",
      "       'EmployeeNumber', 'EnvironmentSatisfaction', 'Gender', 'HourlyRate',\n",
      "       'JobInvolvement', 'JobLevel', 'JobRole', 'JobSatisfaction',\n",
      "       'MaritalStatus', 'MonthlyIncome', 'MonthlyRate', 'NumCompaniesWorked',\n",
      "       'Over18', 'OverTime', 'PercentSalaryHike', 'PerformanceRating',\n",
      "       'RelationshipSatisfaction', 'StandardHours', 'StockOptionLevel',\n",
      "       'TotalWorkingYears', 'TrainingTimesLastYear', 'WorkLifeBalance',\n",
      "       'YearsAtCompany', 'YearsInCurrentRole', 'YearsSinceLastPromotion',\n",
      "       'YearsWithCurrManager'],\n",
      "      dtype='object')\n"
     ]
    }
   ],
   "source": [
    "# prints out names of columns\n",
    "print(df.columns)"
   ]
  },
  {
   "cell_type": "code",
   "execution_count": 6,
   "id": "e302a81b",
   "metadata": {},
   "outputs": [
    {
     "name": "stdout",
     "output_type": "stream",
     "text": [
      "<class 'pandas.core.frame.DataFrame'>\n",
      "RangeIndex: 1470 entries, 0 to 1469\n",
      "Data columns (total 35 columns):\n",
      " #   Column                    Non-Null Count  Dtype \n",
      "---  ------                    --------------  ----- \n",
      " 0   Age                       1470 non-null   int64 \n",
      " 1   Attrition                 1470 non-null   object\n",
      " 2   BusinessTravel            1470 non-null   object\n",
      " 3   DailyRate                 1470 non-null   int64 \n",
      " 4   Department                1470 non-null   object\n",
      " 5   DistanceFromHome          1470 non-null   int64 \n",
      " 6   Education                 1470 non-null   int64 \n",
      " 7   EducationField            1470 non-null   object\n",
      " 8   EmployeeCount             1470 non-null   int64 \n",
      " 9   EmployeeNumber            1470 non-null   int64 \n",
      " 10  EnvironmentSatisfaction   1470 non-null   int64 \n",
      " 11  Gender                    1470 non-null   object\n",
      " 12  HourlyRate                1470 non-null   int64 \n",
      " 13  JobInvolvement            1470 non-null   int64 \n",
      " 14  JobLevel                  1470 non-null   int64 \n",
      " 15  JobRole                   1470 non-null   object\n",
      " 16  JobSatisfaction           1470 non-null   int64 \n",
      " 17  MaritalStatus             1470 non-null   object\n",
      " 18  MonthlyIncome             1470 non-null   int64 \n",
      " 19  MonthlyRate               1470 non-null   int64 \n",
      " 20  NumCompaniesWorked        1470 non-null   int64 \n",
      " 21  Over18                    1470 non-null   object\n",
      " 22  OverTime                  1470 non-null   object\n",
      " 23  PercentSalaryHike         1470 non-null   int64 \n",
      " 24  PerformanceRating         1470 non-null   int64 \n",
      " 25  RelationshipSatisfaction  1470 non-null   int64 \n",
      " 26  StandardHours             1470 non-null   int64 \n",
      " 27  StockOptionLevel          1470 non-null   int64 \n",
      " 28  TotalWorkingYears         1470 non-null   int64 \n",
      " 29  TrainingTimesLastYear     1470 non-null   int64 \n",
      " 30  WorkLifeBalance           1470 non-null   int64 \n",
      " 31  YearsAtCompany            1470 non-null   int64 \n",
      " 32  YearsInCurrentRole        1470 non-null   int64 \n",
      " 33  YearsSinceLastPromotion   1470 non-null   int64 \n",
      " 34  YearsWithCurrManager      1470 non-null   int64 \n",
      "dtypes: int64(26), object(9)\n",
      "memory usage: 402.1+ KB\n",
      "None\n"
     ]
    }
   ],
   "source": [
    "# This tells us which variables are object, int64 and float 64. This would mean that \n",
    "# some of the object variables might have to be changed into a categorical variables and int64 to float64 \n",
    "# depending on our analysis.\n",
    "print(df.info())"
   ]
  },
  {
   "cell_type": "code",
   "execution_count": 7,
   "id": "ec0ef42b",
   "metadata": {},
   "outputs": [
    {
     "name": "stdout",
     "output_type": "stream",
     "text": [
      "                           count          mean          std     min      25%  \\\n",
      "Age                       1470.0     36.923810     9.135373    18.0    30.00   \n",
      "DailyRate                 1470.0    802.485714   403.509100   102.0   465.00   \n",
      "DistanceFromHome          1470.0      9.192517     8.106864     1.0     2.00   \n",
      "Education                 1470.0      2.912925     1.024165     1.0     2.00   \n",
      "EmployeeCount             1470.0      1.000000     0.000000     1.0     1.00   \n",
      "EmployeeNumber            1470.0   1024.865306   602.024335     1.0   491.25   \n",
      "EnvironmentSatisfaction   1470.0      2.721769     1.093082     1.0     2.00   \n",
      "HourlyRate                1470.0     65.891156    20.329428    30.0    48.00   \n",
      "JobInvolvement            1470.0      2.729932     0.711561     1.0     2.00   \n",
      "JobLevel                  1470.0      2.063946     1.106940     1.0     1.00   \n",
      "JobSatisfaction           1470.0      2.728571     1.102846     1.0     2.00   \n",
      "MonthlyIncome             1470.0   6502.931293  4707.956783  1009.0  2911.00   \n",
      "MonthlyRate               1470.0  14313.103401  7117.786044  2094.0  8047.00   \n",
      "NumCompaniesWorked        1470.0      2.693197     2.498009     0.0     1.00   \n",
      "PercentSalaryHike         1470.0     15.209524     3.659938    11.0    12.00   \n",
      "PerformanceRating         1470.0      3.153741     0.360824     3.0     3.00   \n",
      "RelationshipSatisfaction  1470.0      2.712245     1.081209     1.0     2.00   \n",
      "StandardHours             1470.0     80.000000     0.000000    80.0    80.00   \n",
      "StockOptionLevel          1470.0      0.793878     0.852077     0.0     0.00   \n",
      "TotalWorkingYears         1470.0     11.279592     7.780782     0.0     6.00   \n",
      "TrainingTimesLastYear     1470.0      2.799320     1.289271     0.0     2.00   \n",
      "WorkLifeBalance           1470.0      2.761224     0.706476     1.0     2.00   \n",
      "YearsAtCompany            1470.0      7.008163     6.126525     0.0     3.00   \n",
      "YearsInCurrentRole        1470.0      4.229252     3.623137     0.0     2.00   \n",
      "YearsSinceLastPromotion   1470.0      2.187755     3.222430     0.0     0.00   \n",
      "YearsWithCurrManager      1470.0      4.123129     3.568136     0.0     2.00   \n",
      "\n",
      "                              50%       75%      max  \n",
      "Age                          36.0     43.00     60.0  \n",
      "DailyRate                   802.0   1157.00   1499.0  \n",
      "DistanceFromHome              7.0     14.00     29.0  \n",
      "Education                     3.0      4.00      5.0  \n",
      "EmployeeCount                 1.0      1.00      1.0  \n",
      "EmployeeNumber             1020.5   1555.75   2068.0  \n",
      "EnvironmentSatisfaction       3.0      4.00      4.0  \n",
      "HourlyRate                   66.0     83.75    100.0  \n",
      "JobInvolvement                3.0      3.00      4.0  \n",
      "JobLevel                      2.0      3.00      5.0  \n",
      "JobSatisfaction               3.0      4.00      4.0  \n",
      "MonthlyIncome              4919.0   8379.00  19999.0  \n",
      "MonthlyRate               14235.5  20461.50  26999.0  \n",
      "NumCompaniesWorked            2.0      4.00      9.0  \n",
      "PercentSalaryHike            14.0     18.00     25.0  \n",
      "PerformanceRating             3.0      3.00      4.0  \n",
      "RelationshipSatisfaction      3.0      4.00      4.0  \n",
      "StandardHours                80.0     80.00     80.0  \n",
      "StockOptionLevel              1.0      1.00      3.0  \n",
      "TotalWorkingYears            10.0     15.00     40.0  \n",
      "TrainingTimesLastYear         3.0      3.00      6.0  \n",
      "WorkLifeBalance               3.0      3.00      4.0  \n",
      "YearsAtCompany                5.0      9.00     40.0  \n",
      "YearsInCurrentRole            3.0      7.00     18.0  \n",
      "YearsSinceLastPromotion       1.0      3.00     15.0  \n",
      "YearsWithCurrManager          3.0      7.00     17.0  \n"
     ]
    }
   ],
   "source": [
    "# checking for counts data and gives Mean, Sd and quartiles for all columns\n",
    "print(df.describe().transpose())"
   ]
  },
  {
   "cell_type": "code",
   "execution_count": 8,
   "id": "7da5e690",
   "metadata": {},
   "outputs": [
    {
     "data": {
      "text/html": [
       "<div>\n",
       "<style scoped>\n",
       "    .dataframe tbody tr th:only-of-type {\n",
       "        vertical-align: middle;\n",
       "    }\n",
       "\n",
       "    .dataframe tbody tr th {\n",
       "        vertical-align: top;\n",
       "    }\n",
       "\n",
       "    .dataframe thead th {\n",
       "        text-align: right;\n",
       "    }\n",
       "</style>\n",
       "<table border=\"1\" class=\"dataframe\">\n",
       "  <thead>\n",
       "    <tr style=\"text-align: right;\">\n",
       "      <th></th>\n",
       "      <th>Age</th>\n",
       "      <th>Attrition</th>\n",
       "      <th>BusinessTravel</th>\n",
       "      <th>DailyRate</th>\n",
       "      <th>Department</th>\n",
       "      <th>DistanceFromHome</th>\n",
       "      <th>Education</th>\n",
       "      <th>EducationField</th>\n",
       "      <th>EmployeeCount</th>\n",
       "      <th>EmployeeNumber</th>\n",
       "      <th>...</th>\n",
       "      <th>RelationshipSatisfaction</th>\n",
       "      <th>StandardHours</th>\n",
       "      <th>StockOptionLevel</th>\n",
       "      <th>TotalWorkingYears</th>\n",
       "      <th>TrainingTimesLastYear</th>\n",
       "      <th>WorkLifeBalance</th>\n",
       "      <th>YearsAtCompany</th>\n",
       "      <th>YearsInCurrentRole</th>\n",
       "      <th>YearsSinceLastPromotion</th>\n",
       "      <th>YearsWithCurrManager</th>\n",
       "    </tr>\n",
       "  </thead>\n",
       "  <tbody>\n",
       "    <tr>\n",
       "      <th>0</th>\n",
       "      <td>False</td>\n",
       "      <td>False</td>\n",
       "      <td>False</td>\n",
       "      <td>False</td>\n",
       "      <td>False</td>\n",
       "      <td>False</td>\n",
       "      <td>False</td>\n",
       "      <td>False</td>\n",
       "      <td>False</td>\n",
       "      <td>False</td>\n",
       "      <td>...</td>\n",
       "      <td>False</td>\n",
       "      <td>False</td>\n",
       "      <td>False</td>\n",
       "      <td>False</td>\n",
       "      <td>False</td>\n",
       "      <td>False</td>\n",
       "      <td>False</td>\n",
       "      <td>False</td>\n",
       "      <td>False</td>\n",
       "      <td>False</td>\n",
       "    </tr>\n",
       "    <tr>\n",
       "      <th>1</th>\n",
       "      <td>False</td>\n",
       "      <td>False</td>\n",
       "      <td>False</td>\n",
       "      <td>False</td>\n",
       "      <td>False</td>\n",
       "      <td>False</td>\n",
       "      <td>False</td>\n",
       "      <td>False</td>\n",
       "      <td>False</td>\n",
       "      <td>False</td>\n",
       "      <td>...</td>\n",
       "      <td>False</td>\n",
       "      <td>False</td>\n",
       "      <td>False</td>\n",
       "      <td>False</td>\n",
       "      <td>False</td>\n",
       "      <td>False</td>\n",
       "      <td>False</td>\n",
       "      <td>False</td>\n",
       "      <td>False</td>\n",
       "      <td>False</td>\n",
       "    </tr>\n",
       "    <tr>\n",
       "      <th>2</th>\n",
       "      <td>False</td>\n",
       "      <td>False</td>\n",
       "      <td>False</td>\n",
       "      <td>False</td>\n",
       "      <td>False</td>\n",
       "      <td>False</td>\n",
       "      <td>False</td>\n",
       "      <td>False</td>\n",
       "      <td>False</td>\n",
       "      <td>False</td>\n",
       "      <td>...</td>\n",
       "      <td>False</td>\n",
       "      <td>False</td>\n",
       "      <td>False</td>\n",
       "      <td>False</td>\n",
       "      <td>False</td>\n",
       "      <td>False</td>\n",
       "      <td>False</td>\n",
       "      <td>False</td>\n",
       "      <td>False</td>\n",
       "      <td>False</td>\n",
       "    </tr>\n",
       "    <tr>\n",
       "      <th>3</th>\n",
       "      <td>False</td>\n",
       "      <td>False</td>\n",
       "      <td>False</td>\n",
       "      <td>False</td>\n",
       "      <td>False</td>\n",
       "      <td>False</td>\n",
       "      <td>False</td>\n",
       "      <td>False</td>\n",
       "      <td>False</td>\n",
       "      <td>False</td>\n",
       "      <td>...</td>\n",
       "      <td>False</td>\n",
       "      <td>False</td>\n",
       "      <td>False</td>\n",
       "      <td>False</td>\n",
       "      <td>False</td>\n",
       "      <td>False</td>\n",
       "      <td>False</td>\n",
       "      <td>False</td>\n",
       "      <td>False</td>\n",
       "      <td>False</td>\n",
       "    </tr>\n",
       "    <tr>\n",
       "      <th>4</th>\n",
       "      <td>False</td>\n",
       "      <td>False</td>\n",
       "      <td>False</td>\n",
       "      <td>False</td>\n",
       "      <td>False</td>\n",
       "      <td>False</td>\n",
       "      <td>False</td>\n",
       "      <td>False</td>\n",
       "      <td>False</td>\n",
       "      <td>False</td>\n",
       "      <td>...</td>\n",
       "      <td>False</td>\n",
       "      <td>False</td>\n",
       "      <td>False</td>\n",
       "      <td>False</td>\n",
       "      <td>False</td>\n",
       "      <td>False</td>\n",
       "      <td>False</td>\n",
       "      <td>False</td>\n",
       "      <td>False</td>\n",
       "      <td>False</td>\n",
       "    </tr>\n",
       "    <tr>\n",
       "      <th>...</th>\n",
       "      <td>...</td>\n",
       "      <td>...</td>\n",
       "      <td>...</td>\n",
       "      <td>...</td>\n",
       "      <td>...</td>\n",
       "      <td>...</td>\n",
       "      <td>...</td>\n",
       "      <td>...</td>\n",
       "      <td>...</td>\n",
       "      <td>...</td>\n",
       "      <td>...</td>\n",
       "      <td>...</td>\n",
       "      <td>...</td>\n",
       "      <td>...</td>\n",
       "      <td>...</td>\n",
       "      <td>...</td>\n",
       "      <td>...</td>\n",
       "      <td>...</td>\n",
       "      <td>...</td>\n",
       "      <td>...</td>\n",
       "      <td>...</td>\n",
       "    </tr>\n",
       "    <tr>\n",
       "      <th>1465</th>\n",
       "      <td>False</td>\n",
       "      <td>False</td>\n",
       "      <td>False</td>\n",
       "      <td>False</td>\n",
       "      <td>False</td>\n",
       "      <td>False</td>\n",
       "      <td>False</td>\n",
       "      <td>False</td>\n",
       "      <td>False</td>\n",
       "      <td>False</td>\n",
       "      <td>...</td>\n",
       "      <td>False</td>\n",
       "      <td>False</td>\n",
       "      <td>False</td>\n",
       "      <td>False</td>\n",
       "      <td>False</td>\n",
       "      <td>False</td>\n",
       "      <td>False</td>\n",
       "      <td>False</td>\n",
       "      <td>False</td>\n",
       "      <td>False</td>\n",
       "    </tr>\n",
       "    <tr>\n",
       "      <th>1466</th>\n",
       "      <td>False</td>\n",
       "      <td>False</td>\n",
       "      <td>False</td>\n",
       "      <td>False</td>\n",
       "      <td>False</td>\n",
       "      <td>False</td>\n",
       "      <td>False</td>\n",
       "      <td>False</td>\n",
       "      <td>False</td>\n",
       "      <td>False</td>\n",
       "      <td>...</td>\n",
       "      <td>False</td>\n",
       "      <td>False</td>\n",
       "      <td>False</td>\n",
       "      <td>False</td>\n",
       "      <td>False</td>\n",
       "      <td>False</td>\n",
       "      <td>False</td>\n",
       "      <td>False</td>\n",
       "      <td>False</td>\n",
       "      <td>False</td>\n",
       "    </tr>\n",
       "    <tr>\n",
       "      <th>1467</th>\n",
       "      <td>False</td>\n",
       "      <td>False</td>\n",
       "      <td>False</td>\n",
       "      <td>False</td>\n",
       "      <td>False</td>\n",
       "      <td>False</td>\n",
       "      <td>False</td>\n",
       "      <td>False</td>\n",
       "      <td>False</td>\n",
       "      <td>False</td>\n",
       "      <td>...</td>\n",
       "      <td>False</td>\n",
       "      <td>False</td>\n",
       "      <td>False</td>\n",
       "      <td>False</td>\n",
       "      <td>False</td>\n",
       "      <td>False</td>\n",
       "      <td>False</td>\n",
       "      <td>False</td>\n",
       "      <td>False</td>\n",
       "      <td>False</td>\n",
       "    </tr>\n",
       "    <tr>\n",
       "      <th>1468</th>\n",
       "      <td>False</td>\n",
       "      <td>False</td>\n",
       "      <td>False</td>\n",
       "      <td>False</td>\n",
       "      <td>False</td>\n",
       "      <td>False</td>\n",
       "      <td>False</td>\n",
       "      <td>False</td>\n",
       "      <td>False</td>\n",
       "      <td>False</td>\n",
       "      <td>...</td>\n",
       "      <td>False</td>\n",
       "      <td>False</td>\n",
       "      <td>False</td>\n",
       "      <td>False</td>\n",
       "      <td>False</td>\n",
       "      <td>False</td>\n",
       "      <td>False</td>\n",
       "      <td>False</td>\n",
       "      <td>False</td>\n",
       "      <td>False</td>\n",
       "    </tr>\n",
       "    <tr>\n",
       "      <th>1469</th>\n",
       "      <td>False</td>\n",
       "      <td>False</td>\n",
       "      <td>False</td>\n",
       "      <td>False</td>\n",
       "      <td>False</td>\n",
       "      <td>False</td>\n",
       "      <td>False</td>\n",
       "      <td>False</td>\n",
       "      <td>False</td>\n",
       "      <td>False</td>\n",
       "      <td>...</td>\n",
       "      <td>False</td>\n",
       "      <td>False</td>\n",
       "      <td>False</td>\n",
       "      <td>False</td>\n",
       "      <td>False</td>\n",
       "      <td>False</td>\n",
       "      <td>False</td>\n",
       "      <td>False</td>\n",
       "      <td>False</td>\n",
       "      <td>False</td>\n",
       "    </tr>\n",
       "  </tbody>\n",
       "</table>\n",
       "<p>1470 rows × 35 columns</p>\n",
       "</div>"
      ],
      "text/plain": [
       "        Age  Attrition  BusinessTravel  DailyRate  Department  \\\n",
       "0     False      False           False      False       False   \n",
       "1     False      False           False      False       False   \n",
       "2     False      False           False      False       False   \n",
       "3     False      False           False      False       False   \n",
       "4     False      False           False      False       False   \n",
       "...     ...        ...             ...        ...         ...   \n",
       "1465  False      False           False      False       False   \n",
       "1466  False      False           False      False       False   \n",
       "1467  False      False           False      False       False   \n",
       "1468  False      False           False      False       False   \n",
       "1469  False      False           False      False       False   \n",
       "\n",
       "      DistanceFromHome  Education  EducationField  EmployeeCount  \\\n",
       "0                False      False           False          False   \n",
       "1                False      False           False          False   \n",
       "2                False      False           False          False   \n",
       "3                False      False           False          False   \n",
       "4                False      False           False          False   \n",
       "...                ...        ...             ...            ...   \n",
       "1465             False      False           False          False   \n",
       "1466             False      False           False          False   \n",
       "1467             False      False           False          False   \n",
       "1468             False      False           False          False   \n",
       "1469             False      False           False          False   \n",
       "\n",
       "      EmployeeNumber  ...  RelationshipSatisfaction  StandardHours  \\\n",
       "0              False  ...                     False          False   \n",
       "1              False  ...                     False          False   \n",
       "2              False  ...                     False          False   \n",
       "3              False  ...                     False          False   \n",
       "4              False  ...                     False          False   \n",
       "...              ...  ...                       ...            ...   \n",
       "1465           False  ...                     False          False   \n",
       "1466           False  ...                     False          False   \n",
       "1467           False  ...                     False          False   \n",
       "1468           False  ...                     False          False   \n",
       "1469           False  ...                     False          False   \n",
       "\n",
       "      StockOptionLevel  TotalWorkingYears  TrainingTimesLastYear  \\\n",
       "0                False              False                  False   \n",
       "1                False              False                  False   \n",
       "2                False              False                  False   \n",
       "3                False              False                  False   \n",
       "4                False              False                  False   \n",
       "...                ...                ...                    ...   \n",
       "1465             False              False                  False   \n",
       "1466             False              False                  False   \n",
       "1467             False              False                  False   \n",
       "1468             False              False                  False   \n",
       "1469             False              False                  False   \n",
       "\n",
       "      WorkLifeBalance  YearsAtCompany  YearsInCurrentRole  \\\n",
       "0               False           False               False   \n",
       "1               False           False               False   \n",
       "2               False           False               False   \n",
       "3               False           False               False   \n",
       "4               False           False               False   \n",
       "...               ...             ...                 ...   \n",
       "1465            False           False               False   \n",
       "1466            False           False               False   \n",
       "1467            False           False               False   \n",
       "1468            False           False               False   \n",
       "1469            False           False               False   \n",
       "\n",
       "      YearsSinceLastPromotion  YearsWithCurrManager  \n",
       "0                       False                 False  \n",
       "1                       False                 False  \n",
       "2                       False                 False  \n",
       "3                       False                 False  \n",
       "4                       False                 False  \n",
       "...                       ...                   ...  \n",
       "1465                    False                 False  \n",
       "1466                    False                 False  \n",
       "1467                    False                 False  \n",
       "1468                    False                 False  \n",
       "1469                    False                 False  \n",
       "\n",
       "[1470 rows x 35 columns]"
      ]
     },
     "execution_count": 8,
     "metadata": {},
     "output_type": "execute_result"
    }
   ],
   "source": [
    "# checking for missing data\n",
    "pd.isna(df)\n",
    "# not very useful as it is not possible to see all the columns"
   ]
  },
  {
   "cell_type": "code",
   "execution_count": 9,
   "id": "d4494adb",
   "metadata": {},
   "outputs": [
    {
     "name": "stdout",
     "output_type": "stream",
     "text": [
      "Nan in each columns\n",
      "Age                         0\n",
      "Attrition                   0\n",
      "BusinessTravel              0\n",
      "DailyRate                   0\n",
      "Department                  0\n",
      "DistanceFromHome            0\n",
      "Education                   0\n",
      "EducationField              0\n",
      "EmployeeCount               0\n",
      "EmployeeNumber              0\n",
      "EnvironmentSatisfaction     0\n",
      "Gender                      0\n",
      "HourlyRate                  0\n",
      "JobInvolvement              0\n",
      "JobLevel                    0\n",
      "JobRole                     0\n",
      "JobSatisfaction             0\n",
      "MaritalStatus               0\n",
      "MonthlyIncome               0\n",
      "MonthlyRate                 0\n",
      "NumCompaniesWorked          0\n",
      "Over18                      0\n",
      "OverTime                    0\n",
      "PercentSalaryHike           0\n",
      "PerformanceRating           0\n",
      "RelationshipSatisfaction    0\n",
      "StandardHours               0\n",
      "StockOptionLevel            0\n",
      "TotalWorkingYears           0\n",
      "TrainingTimesLastYear       0\n",
      "WorkLifeBalance             0\n",
      "YearsAtCompany              0\n",
      "YearsInCurrentRole          0\n",
      "YearsSinceLastPromotion     0\n",
      "YearsWithCurrManager        0\n",
      "dtype: int64\n"
     ]
    }
   ],
   "source": [
    "# checking for missing data\n",
    "print('Nan in each columns' , df.isna().sum(), sep='\\n')"
   ]
  },
  {
   "cell_type": "markdown",
   "id": "5efed77a",
   "metadata": {},
   "source": [
    "####  Data Dictionary\n",
    "| Attribute | DataType |  Description |\n",
    "| :- | :- | :- |\n",
    "| Age | int | Age of an employee |\n",
    "| Attrition | text | Did the employee leave or not: Yes or No? |\n",
    "| BusinessTravel | text | Did the employee travel for work: Travel_Rarely, Travel_Frequently, Non-Travel |\n",
    "| DailyRate | int | Daily rate of employee salary |\n",
    "| Department | int | The department that the employee worked in: Sales, Research & Development, Human Resources |\n",
    "| DistanceFromHome | int | Number of *miles* away from home |\n",
    "| Education | int | The education level reached by the employee: 1 'Below College' 2 'College' 3 'Bachelor' 4 'Master' 5 'Doctor' |\n",
    "| EducationField | int | The area of study: Life Sciences, Medical, Marketing, Technical Degree, Human Resources,  Other |\n",
    "| EmployeeCount | int | Unclear |\n",
    "| EmployeeNumber | int | Employee number of the employee in the dataset |\n",
    "| EnvironmentSatisfaction | int | 1 'Low' 2 'Medium' 3 'High' 4 'Very High' |\n",
    "| Gender | text | Gender of employee: Male or Female |\n",
    "| HourlyRate | int | Hourly Rate of Employee |\n",
    "| JobInvolvement | int | 1 'Low' 2 'Medium' 3 'High' 4 'Very High' |\n",
    "| JobLevel | int | 1 'Low' 2 'Medium' 3 'High' 4 'Very High |\n",
    "| JobRole | int | Employee's job title: Sales Executive, Research Scientist, Laboratory Technician, Manufacturing Director, Healthcare Representative, Manager, Sales Representative, Research Director, Human Resources |\n",
    "| JobSatisfaction | int | 1 'Low' 2 'Medium' 3 'High' 4 'Very High' |\n",
    "| MaritalStatus | int | Employee's marital status: Single, Married, Divorced |\n",
    "| MonthlyIncome | int | Employee's monthly salary |\n",
    "| MonthlyRate | int | auto |\n",
    "| NumCompaniesWorked | int | auto |\n",
    "| Over18 | int | Employee's Over-18 status: Y |\n",
    "| OverTime | text | Employee's overtime status: Yes, No |\n",
    "| PercentSalaryHike | int | auto |\n",
    "| PerformanceRating | int | auto |\n",
    "| RelationshipSatisfaction | int | 1 'Low' 2 'Good' 3 'Excellent' 4 'Outstanding' |\n",
    "| StandardHours | int | auto |\n",
    "| StockOptionLevel | int | auto |\n",
    "| TotalWorkingYears | int | auto |\n",
    "| TrainingTimesLastYear | int | auto |\n",
    "| WorkLifeBalance | int | 1 'Bad' 2 'Good' 3 'Better' 4 'Best' |\n",
    "| YearsAtCompany | int | auto |\n",
    "| YearsInCurrentRole | int | auto |\n",
    "| YearsSinceLastPromotion | int | auto |\n",
    "| YearsWithCurrManager | int | auto |\n",
    "\n",
    "Please note: DistanceFromHome was assumed to be in miles, this was not provided in the data dictionary.\n",
    "\n",
    "#####  Data Dictionary: Target Variable\n",
    "| Attribute | DataType |  Description |\n",
    "| :- | :- | :- |\n",
    "| Attrition | text | Did the employee leave or not: Yes or No? |\n"
   ]
  },
  {
   "cell_type": "code",
   "execution_count": 10,
   "id": "ba97e520",
   "metadata": {},
   "outputs": [
    {
     "name": "stdout",
     "output_type": "stream",
     "text": [
      "\n",
      " Age \n",
      " [41 49 37 33 27 32 59 30 38 36 35 29 31 34 28 22 53 24 21 42 44 46 39 43\n",
      " 50 26 48 55 45 56 23 51 40 54 58 20 25 19 57 52 47 18 60] \n",
      " --------------------------------------------------------------------------------\n",
      "\n",
      " Attrition \n",
      " ['Yes' 'No'] \n",
      " --------------------------------------------------------------------------------\n",
      "\n",
      " BusinessTravel \n",
      " ['Travel_Rarely' 'Travel_Frequently' 'Non-Travel'] \n",
      " --------------------------------------------------------------------------------\n",
      "\n",
      " DailyRate \n",
      " [1102  279 1373 1392  591 1005 1324 1358  216 1299  809  153  670 1346\n",
      "  103 1389  334 1123 1219  371  673 1218  419  391  699 1282 1125  691\n",
      "  477  705  924 1459  125  895  813 1273  869  890  852 1141  464 1240\n",
      " 1357  994  721 1360 1065  408 1211 1229  626 1434 1488 1097 1443  515\n",
      "  853 1142  655 1115  427  653  989 1435 1223  836 1195 1339  664  318\n",
      " 1225 1328 1082  548  132  746  776  193  397  945 1214  111  573 1153\n",
      " 1400  541  432  288  669  530  632 1334  638 1093 1217 1353  120  682\n",
      "  489  807  827  871  665 1040 1420  240 1280  534 1456  658  142 1127\n",
      " 1031 1189 1354 1467  922  394 1312  750  441  684  249  841  147  528\n",
      "  594  470  957  542  802 1355 1150 1329  959 1033 1316  364  438  689\n",
      "  201 1427  857  933 1181 1395  662 1436  194  967 1496 1169 1145  630\n",
      "  303 1256  440 1450 1452  465  702 1157  602 1480 1268  713  134  526\n",
      " 1380  140  629 1356  328 1084  931  692 1069  313  894  556 1344  290\n",
      "  138  926 1261  472 1002  878  905 1180  121 1136  635 1151  644 1045\n",
      "  829 1242 1469  896  992 1052 1147 1396  663  119  979  319 1413  944\n",
      " 1323  532  818  854 1034  771 1401 1431  976 1411 1300  252 1327  832\n",
      " 1017 1199  504  505  916 1247  685  269 1416  833  307 1311  128  488\n",
      "  529 1210 1463  675 1385 1403  452  666 1158  228  996  728 1315  322\n",
      " 1479  797 1070  442  496 1372  920  688 1449 1117  636  506  444  950\n",
      "  889  555  230 1232  566 1302  812 1476  218 1132 1105  906  849  390\n",
      "  106 1249  192  553  117  185 1091  723 1220  588 1377 1018 1275  798\n",
      "  672 1162  508 1482  559  210  928 1001  549 1124  738  570 1130 1192\n",
      "  343  144 1296 1309  483  810  544 1062 1319  641 1332  756  845  593\n",
      " 1171  350  921 1144  143 1046  575  156 1283  755  304 1178  329 1362\n",
      " 1371  202  253  164 1107  759 1305  982  821 1381  480 1473  891 1063\n",
      "  645 1490  317  422 1485 1368 1448  296 1398 1349  986 1099 1116 1499\n",
      "  983 1009 1303 1274 1277  587  413 1276  988 1474  163  267  619  302\n",
      "  443  828  561  426  232 1306 1094  509  775  195  258  471  799  956\n",
      "  535 1495  446 1245  703  823 1246  622 1287  448  254 1365  538  525\n",
      "  558  782  362 1236 1112  204 1343  604 1216  646  160  238 1397  306\n",
      "  991  482 1176  913 1076  727  885  243  806  817 1410 1207 1442  693\n",
      "  929  562  608  580  970 1179  294  314  316  654  168  381  217  501\n",
      "  650  141  804  975 1090  346  430  268  167  621  527  883  954  310\n",
      "  719  725  715  657 1146  182  376  571  384  791 1111 1243 1092 1325\n",
      "  805  213  118  676 1252  286 1258  932 1041  859  720  946 1184  436\n",
      "  589  760  887 1318  625  180  586 1012  661  930  342 1230 1271 1278\n",
      "  607  130  300  583 1418 1269  379  395 1265 1222  341  868 1231  102\n",
      "  881 1383 1075  374 1086  781  177  500 1425 1454  617 1085  995 1122\n",
      "  618  546  462 1198 1272  154 1137 1188  188 1333  867  263  938  129\n",
      "  616  498 1404 1053  289 1376  231  152  882  903 1379  335  722  461\n",
      "  974 1126  840 1134  248  955  939 1391 1206  287 1441  109 1066  277\n",
      "  466 1055  265  135  247 1035  266  145 1038 1234 1109 1089  788  124\n",
      "  660 1186 1464  796  415  769 1003 1366  330 1492 1204  309 1330  469\n",
      "  697 1262 1050  770  406  203 1308  984  439  793 1451 1182  174  490\n",
      "  718  433  773  603  874  367  199  481  647 1384  902  819  862 1457\n",
      "  977  942 1402 1421 1361  917  200  150  179  696  116  363  107 1465\n",
      "  458 1212 1103  966 1010  326 1098  969 1167  694 1320  536  373  599\n",
      "  251  131  237 1429  648  735  531  429  968  879  640  412  848  360\n",
      " 1138  325 1322  299 1030  634  524  256 1060  935  495  282  206  943\n",
      "  523  507  601  855 1291 1405 1369  999 1202  285  404  736 1498 1200\n",
      " 1439  499  205  683 1462  949  652  332 1475  337  971 1174  667  560\n",
      "  172  383 1255  359  401  377  592 1445 1221  866  981  447 1326  748\n",
      "  990  405  115  790  830 1193 1423  467  271  410 1083  516  224  136\n",
      " 1029  333 1440  674 1342  898  824  492  598  740  888 1288  104 1108\n",
      "  479 1351  474  437  884 1370  264 1059  563  457 1313  241 1015  336\n",
      " 1387  170  208  671  711  737 1470  365  763  567  486  772  301  311\n",
      "  584  880  392  148  708 1259  786  370  678  146  581  918 1238  585\n",
      "  741  552  369  717  543  964  792  611  176  897  600 1054  428  181\n",
      "  211 1079  590  305  953  478 1375  244  511 1294  196  734 1239 1253\n",
      " 1128 1336  234  766  261 1194  431  572 1422 1297  574  355  207  706\n",
      "  280  726  414  352 1224  459 1254 1131  835 1172 1266  783  219 1213\n",
      " 1096 1251 1394  605 1064 1337  937  157  754 1168  155 1444  189  911\n",
      " 1321 1154  557  642  801  161 1382 1037  105  582  704  345 1120 1378\n",
      "  468  613 1023  628] \n",
      " --------------------------------------------------------------------------------\n",
      "\n",
      " Department \n",
      " ['Sales' 'Research & Development' 'Human Resources'] \n",
      " --------------------------------------------------------------------------------\n",
      "\n",
      " DistanceFromHome \n",
      " [ 1  8  2  3 24 23 27 16 15 26 19 21  5 11  9  7  6 10  4 25 12 18 29 22\n",
      " 14 20 28 17 13] \n",
      " --------------------------------------------------------------------------------\n",
      "\n",
      " Education \n",
      " [2 1 4 3 5] \n",
      " --------------------------------------------------------------------------------\n",
      "\n",
      " EducationField \n",
      " ['Life Sciences' 'Other' 'Medical' 'Marketing' 'Technical Degree'\n",
      " 'Human Resources'] \n",
      " --------------------------------------------------------------------------------\n",
      "\n",
      " EmployeeCount \n",
      " [1] \n",
      " --------------------------------------------------------------------------------\n",
      "\n",
      " EmployeeNumber \n",
      " [   1    2    4 ... 2064 2065 2068] \n",
      " --------------------------------------------------------------------------------\n",
      "\n",
      " EnvironmentSatisfaction \n",
      " [2 3 4 1] \n",
      " --------------------------------------------------------------------------------\n",
      "\n",
      " Gender \n",
      " ['Female' 'Male'] \n",
      " --------------------------------------------------------------------------------\n",
      "\n",
      " HourlyRate \n",
      " [ 94  61  92  56  40  79  81  67  44  84  49  31  93  50  51  80  96  78\n",
      "  45  82  53  83  58  72  48  42  41  86  97  75  33  37  73  98  36  47\n",
      "  71  30  43  99  59  95  57  76  87  66  55  32  52  70  62  64  63  60\n",
      " 100  46  39  77  35  91  54  34  90  65  88  85  89  68  69  74  38] \n",
      " --------------------------------------------------------------------------------\n",
      "\n",
      " JobInvolvement \n",
      " [3 2 4 1] \n",
      " --------------------------------------------------------------------------------\n",
      "\n",
      " JobLevel \n",
      " [2 1 3 4 5] \n",
      " --------------------------------------------------------------------------------\n",
      "\n",
      " JobRole \n",
      " ['Sales Executive' 'Research Scientist' 'Laboratory Technician'\n",
      " 'Manufacturing Director' 'Healthcare Representative' 'Manager'\n",
      " 'Sales Representative' 'Research Director' 'Human Resources'] \n",
      " --------------------------------------------------------------------------------\n",
      "\n",
      " JobSatisfaction \n",
      " [4 2 3 1] \n",
      " --------------------------------------------------------------------------------\n",
      "\n",
      " MaritalStatus \n",
      " ['Single' 'Married' 'Divorced'] \n",
      " --------------------------------------------------------------------------------\n",
      "\n",
      " MonthlyIncome \n",
      " [5993 5130 2090 ... 9991 5390 4404] \n",
      " --------------------------------------------------------------------------------\n",
      "\n",
      " MonthlyRate \n",
      " [19479 24907  2396 ...  5174 13243 10228] \n",
      " --------------------------------------------------------------------------------\n",
      "\n",
      " NumCompaniesWorked \n",
      " [8 1 6 9 0 4 5 2 7 3] \n",
      " --------------------------------------------------------------------------------\n",
      "\n",
      " Over18 \n",
      " ['Y'] \n",
      " --------------------------------------------------------------------------------\n",
      "\n",
      " OverTime \n",
      " ['Yes' 'No'] \n",
      " --------------------------------------------------------------------------------\n",
      "\n",
      " PercentSalaryHike \n",
      " [11 23 15 12 13 20 22 21 17 14 16 18 19 24 25] \n",
      " --------------------------------------------------------------------------------\n",
      "\n",
      " PerformanceRating \n",
      " [3 4] \n",
      " --------------------------------------------------------------------------------\n",
      "\n",
      " RelationshipSatisfaction \n",
      " [1 4 2 3] \n",
      " --------------------------------------------------------------------------------\n",
      "\n",
      " StandardHours \n",
      " [80] \n",
      " --------------------------------------------------------------------------------\n",
      "\n",
      " StockOptionLevel \n",
      " [0 1 3 2] \n",
      " --------------------------------------------------------------------------------\n",
      "\n",
      " TotalWorkingYears \n",
      " [ 8 10  7  6 12  1 17  5  3 31 13  0 26 24 22  9 19  2 23 14 15  4 29 28\n",
      " 21 25 20 11 16 37 38 30 40 18 36 34 32 33 35 27] \n",
      " --------------------------------------------------------------------------------\n",
      "\n",
      " TrainingTimesLastYear \n",
      " [0 3 2 5 1 4 6] \n",
      " --------------------------------------------------------------------------------\n",
      "\n",
      " WorkLifeBalance \n",
      " [1 3 2 4] \n",
      " --------------------------------------------------------------------------------\n",
      "\n",
      " YearsAtCompany \n",
      " [ 6 10  0  8  2  7  1  9  5  4 25  3 12 14 22 15 27 21 17 11 13 37 16 20\n",
      " 40 24 33 19 36 18 29 31 32 34 26 30 23] \n",
      " --------------------------------------------------------------------------------\n"
     ]
    },
    {
     "name": "stdout",
     "output_type": "stream",
     "text": [
      "\n",
      " YearsInCurrentRole \n",
      " [ 4  7  0  2  5  9  8  3  6 13  1 15 14 16 11 10 12 18 17] \n",
      " --------------------------------------------------------------------------------\n",
      "\n",
      " YearsSinceLastPromotion \n",
      " [ 0  1  3  2  7  4  8  6  5 15  9 13 12 10 11 14] \n",
      " --------------------------------------------------------------------------------\n",
      "\n",
      " YearsWithCurrManager \n",
      " [ 5  7  0  2  6  8  3 11 17  1  4 12  9 10 15 13 16 14] \n",
      " --------------------------------------------------------------------------------\n"
     ]
    }
   ],
   "source": [
    "# Looking for all the unique values in all the columns\n",
    "column = df.columns\n",
    "for i in column:\n",
    "    print('\\n',i,'\\n',df[i].unique(),'\\n','-'*80)"
   ]
  },
  {
   "cell_type": "markdown",
   "id": "dd5616de",
   "metadata": {},
   "source": [
    "## Data Preparation "
   ]
  },
  {
   "cell_type": "code",
   "execution_count": 11,
   "id": "a46b604b",
   "metadata": {},
   "outputs": [],
   "source": [
    "# All columns that have text in them but are categorical variables\n",
    "df['Gender'] = df['Gender'].astype('category')\n",
    "df['OverTime'] = df['OverTime'].astype('category')\n",
    "df['BusinessTravel'] = df['BusinessTravel'].astype('category')\n",
    "df['Department'] = df['Department'].astype('category')\n",
    "df['JobRole'] = df['JobRole'].astype('category')\n",
    "\n",
    "\n",
    "df['StockOptionLevel'] = df['StockOptionLevel'].astype('category')\n",
    "\n",
    "# Target Variable\n",
    "df['Attrition'] = df['Attrition'].astype('category')"
   ]
  },
  {
   "cell_type": "code",
   "execution_count": 12,
   "id": "65059309",
   "metadata": {},
   "outputs": [
    {
     "data": {
      "text/plain": [
       "['Single', 'Married', 'Divorced']\n",
       "Categories (3, object): ['Single' < 'Married' < 'Divorced']"
      ]
     },
     "execution_count": 12,
     "metadata": {},
     "output_type": "execute_result"
    }
   ],
   "source": [
    "## MaritialStatus\n",
    "df['MaritalStatus'] = df['MaritalStatus'].astype('category')\n",
    "\n",
    "#reordering - important in graphs\n",
    "df['MaritalStatus'] = df['MaritalStatus'].cat.reorder_categories(['Single', 'Married', 'Divorced'], \n",
    "                                                                 ordered=True)\n",
    "#examining unique values \n",
    "df['MaritalStatus'].unique()"
   ]
  },
  {
   "cell_type": "code",
   "execution_count": 13,
   "id": "ac448d08",
   "metadata": {},
   "outputs": [
    {
     "data": {
      "text/plain": [
       "['College', 'Below College', 'Master', 'Bachelor', 'Doctor']\n",
       "Categories (5, object): ['Below College' < 'College' < 'Bachelor' < 'Master' < 'Doctor']"
      ]
     },
     "execution_count": 13,
     "metadata": {},
     "output_type": "execute_result"
    }
   ],
   "source": [
    "## EDUCATION\n",
    "# assigning string to the variable\n",
    "df['Education'] = df['Education'].astype('str')\n",
    "# replacing values for their correct values\n",
    "df['Education'] = df['Education'].str.replace('1', 'Below College')\n",
    "df['Education'] = df['Education'].str.replace('2', 'College')\n",
    "df['Education'] = df['Education'].str.replace('3', 'Bachelor')\n",
    "df['Education'] = df['Education'].str.replace('4', 'Master')\n",
    "df['Education'] = df['Education'].str.replace('5', 'Doctor')\n",
    "# assigning category \n",
    "df['Education'] = df['Education'].astype('category')\n",
    "#reordering - important in graphs\n",
    "df['Education'] = df['Education'].cat.reorder_categories(['Below College', 'College', \n",
    "                                                          'Bachelor', 'Master', 'Doctor'], ordered=True)\n",
    "#examining unique values \n",
    "df['Education'].unique()"
   ]
  },
  {
   "cell_type": "code",
   "execution_count": 14,
   "id": "1bf26a6a",
   "metadata": {
    "scrolled": true
   },
   "outputs": [
    {
     "data": {
      "text/plain": [
       "['Bad', 'Better', 'Good', 'Best']\n",
       "Categories (4, object): ['Bad' < 'Good' < 'Better' < 'Best']"
      ]
     },
     "execution_count": 14,
     "metadata": {},
     "output_type": "execute_result"
    }
   ],
   "source": [
    "## WorkLifeBalance\n",
    "# assigning string to the variable\n",
    "df['WorkLifeBalance'] = df['WorkLifeBalance'].astype('str')\n",
    "# replacing values for their correct values\n",
    "df['WorkLifeBalance'] = df['WorkLifeBalance'].str.replace('1', 'Bad')\n",
    "df['WorkLifeBalance'] = df['WorkLifeBalance'].str.replace('2', 'Good')\n",
    "df['WorkLifeBalance'] = df['WorkLifeBalance'].str.replace('3', 'Better')\n",
    "df['WorkLifeBalance'] = df['WorkLifeBalance'].str.replace('4', 'Best')\n",
    "# assigning category \n",
    "df['WorkLifeBalance'] = df['WorkLifeBalance'].astype('category')\n",
    "\n",
    "#reordering - important in graphs\n",
    "df['WorkLifeBalance'] = df['WorkLifeBalance'].cat.reorder_categories(['Bad', 'Good', \n",
    "                                                          'Better', 'Best'], ordered=True)\n",
    "#examining unique values \n",
    "df['WorkLifeBalance'].unique()"
   ]
  },
  {
   "cell_type": "code",
   "execution_count": 15,
   "id": "78077369",
   "metadata": {},
   "outputs": [
    {
     "data": {
      "text/plain": [
       "['Excellent', 'Outstanding']\n",
       "Categories (2, object): ['Excellent', 'Outstanding']"
      ]
     },
     "execution_count": 15,
     "metadata": {},
     "output_type": "execute_result"
    }
   ],
   "source": [
    "## PerformanceRating\n",
    "# assigning string to the variable\n",
    "df['PerformanceRating'] = df['PerformanceRating'].astype('str')\n",
    "# replacing values for their correct values\n",
    "df['PerformanceRating'] = df['PerformanceRating'].str.replace('1', 'Low')\n",
    "df['PerformanceRating'] = df['PerformanceRating'].str.replace('2', 'Good')\n",
    "df['PerformanceRating'] = df['PerformanceRating'].str.replace('3', 'Excellent')\n",
    "df['PerformanceRating'] = df['PerformanceRating'].str.replace('4', 'Outstanding')\n",
    "# assigning category \n",
    "df['PerformanceRating'] = df['PerformanceRating'].astype('category')\n",
    "\n",
    "#examining unique values \n",
    "df['PerformanceRating'].unique()"
   ]
  },
  {
   "cell_type": "code",
   "execution_count": 16,
   "id": "464852e1",
   "metadata": {},
   "outputs": [
    {
     "name": "stdout",
     "output_type": "stream",
     "text": [
      "0         Excellent\n",
      "1       Outstanding\n",
      "2         Excellent\n",
      "3         Excellent\n",
      "4         Excellent\n",
      "           ...     \n",
      "1465      Excellent\n",
      "1466      Excellent\n",
      "1467    Outstanding\n",
      "1468      Excellent\n",
      "1469      Excellent\n",
      "Name: PerformanceRating, Length: 1470, dtype: category\n",
      "Categories (2, object): ['Excellent' < 'Outstanding']\n"
     ]
    }
   ],
   "source": [
    "# reordering - important in graphs\n",
    "df['PerformanceRating'] = df['PerformanceRating'].cat.reorder_categories(['Excellent', 'Outstanding'], \n",
    "                                                                         ordered=True)\n",
    "\n",
    "print(df['PerformanceRating'])"
   ]
  },
  {
   "cell_type": "code",
   "execution_count": 17,
   "id": "b9e72611",
   "metadata": {},
   "outputs": [],
   "source": [
    "def convert_to_category(x):\n",
    "    ## EnvironmentSatisfaction\n",
    "    # assigning string to the variable\n",
    "    x = x.astype('str')\n",
    "    # replacing values for their correct values\n",
    "    x = x.str.replace('1', 'Low')\n",
    "    x = x.str.replace('2', 'Medium')\n",
    "    x = x.str.replace('3', 'High')\n",
    "    x = x.str.replace('4', 'Very High')\n",
    "    # assigning category \n",
    "    x = x.astype('category')\n",
    "    \n",
    "    #reordering - important in graphs\n",
    "    x = x.cat.reorder_categories(['Low', 'Medium', 'High', 'Very High'], ordered=True)\n",
    "\n",
    "    #examining unique values \n",
    "    x.unique()"
   ]
  },
  {
   "cell_type": "code",
   "execution_count": 18,
   "id": "26b5ba62",
   "metadata": {},
   "outputs": [],
   "source": [
    "# using function above to change the values and converting to category\n",
    "convert_to_category(df['EnvironmentSatisfaction'])\n",
    "convert_to_category(df['JobInvolvement'])\n",
    "convert_to_category(df['JobSatisfaction'] )\n",
    "convert_to_category(df['RelationshipSatisfaction'])\n"
   ]
  },
  {
   "cell_type": "code",
   "execution_count": 19,
   "id": "29130129",
   "metadata": {},
   "outputs": [
    {
     "name": "stdout",
     "output_type": "stream",
     "text": [
      "<class 'pandas.core.frame.DataFrame'>\n",
      "RangeIndex: 1470 entries, 0 to 1469\n",
      "Data columns (total 35 columns):\n",
      " #   Column                    Non-Null Count  Dtype   \n",
      "---  ------                    --------------  -----   \n",
      " 0   Age                       1470 non-null   int64   \n",
      " 1   Attrition                 1470 non-null   category\n",
      " 2   BusinessTravel            1470 non-null   category\n",
      " 3   DailyRate                 1470 non-null   int64   \n",
      " 4   Department                1470 non-null   category\n",
      " 5   DistanceFromHome          1470 non-null   int64   \n",
      " 6   Education                 1470 non-null   category\n",
      " 7   EducationField            1470 non-null   object  \n",
      " 8   EmployeeCount             1470 non-null   int64   \n",
      " 9   EmployeeNumber            1470 non-null   int64   \n",
      " 10  EnvironmentSatisfaction   1470 non-null   int64   \n",
      " 11  Gender                    1470 non-null   category\n",
      " 12  HourlyRate                1470 non-null   int64   \n",
      " 13  JobInvolvement            1470 non-null   int64   \n",
      " 14  JobLevel                  1470 non-null   int64   \n",
      " 15  JobRole                   1470 non-null   category\n",
      " 16  JobSatisfaction           1470 non-null   int64   \n",
      " 17  MaritalStatus             1470 non-null   category\n",
      " 18  MonthlyIncome             1470 non-null   int64   \n",
      " 19  MonthlyRate               1470 non-null   int64   \n",
      " 20  NumCompaniesWorked        1470 non-null   int64   \n",
      " 21  Over18                    1470 non-null   object  \n",
      " 22  OverTime                  1470 non-null   category\n",
      " 23  PercentSalaryHike         1470 non-null   int64   \n",
      " 24  PerformanceRating         1470 non-null   category\n",
      " 25  RelationshipSatisfaction  1470 non-null   int64   \n",
      " 26  StandardHours             1470 non-null   int64   \n",
      " 27  StockOptionLevel          1470 non-null   category\n",
      " 28  TotalWorkingYears         1470 non-null   int64   \n",
      " 29  TrainingTimesLastYear     1470 non-null   int64   \n",
      " 30  WorkLifeBalance           1470 non-null   category\n",
      " 31  YearsAtCompany            1470 non-null   int64   \n",
      " 32  YearsInCurrentRole        1470 non-null   int64   \n",
      " 33  YearsSinceLastPromotion   1470 non-null   int64   \n",
      " 34  YearsWithCurrManager      1470 non-null   int64   \n",
      "dtypes: category(11), int64(22), object(2)\n",
      "memory usage: 293.4+ KB\n"
     ]
    }
   ],
   "source": [
    "# checking data to check that all objects have been changed to categorical variables.\n",
    "df.info()"
   ]
  },
  {
   "cell_type": "code",
   "execution_count": null,
   "id": "58b22819",
   "metadata": {},
   "outputs": [],
   "source": []
  },
  {
   "cell_type": "markdown",
   "id": "e50c1015",
   "metadata": {},
   "source": [
    "### Dropping columns\n",
    "\n",
    "| Attribute | Reason |\n",
    "| :- | :- | \n",
    "| EmployeeCount | No data description was provided |\n",
    "| EmployeeNumber  | Redundant - in pandas index is used |\n",
    "| Over18 | All employees are/were over 18 |\n",
    "| StockOptionLevel | No data description was provided |\n",
    "| PerformanceRating | Only two values: Excellent and Outstanding. Unclear what is the difference between the two |\n"
   ]
  },
  {
   "cell_type": "code",
   "execution_count": 20,
   "id": "6eb4f996",
   "metadata": {},
   "outputs": [
    {
     "data": {
      "text/plain": [
       "EmployeeCount\n",
       "1    1470\n",
       "dtype: int64"
      ]
     },
     "execution_count": 20,
     "metadata": {},
     "output_type": "execute_result"
    }
   ],
   "source": [
    "# EmployeeCount has no column description and all values are '1'\n",
    "df.groupby(['EmployeeCount']).size().sort_values(ascending=False)"
   ]
  },
  {
   "cell_type": "code",
   "execution_count": 21,
   "id": "6e10aa49",
   "metadata": {},
   "outputs": [
    {
     "data": {
      "text/plain": [
       "Over18\n",
       "Y    1470\n",
       "dtype: int64"
      ]
     },
     "execution_count": 21,
     "metadata": {},
     "output_type": "execute_result"
    }
   ],
   "source": [
    "# All employees are over 18\n",
    "df.groupby(['Over18']).size().sort_values(ascending=False)"
   ]
  },
  {
   "cell_type": "code",
   "execution_count": 22,
   "id": "36ca7828",
   "metadata": {},
   "outputs": [
    {
     "data": {
      "text/plain": [
       "StockOptionLevel\n",
       "0    631\n",
       "1    596\n",
       "2    158\n",
       "3     85\n",
       "dtype: int64"
      ]
     },
     "execution_count": 22,
     "metadata": {},
     "output_type": "execute_result"
    }
   ],
   "source": [
    "# StockOptionLevel has no column description \n",
    "df.groupby(['StockOptionLevel']).size().sort_values(ascending=False)"
   ]
  },
  {
   "cell_type": "code",
   "execution_count": 23,
   "id": "28cb63a0",
   "metadata": {},
   "outputs": [
    {
     "data": {
      "text/plain": [
       "PerformanceRating\n",
       "Excellent      1244\n",
       "Outstanding     226\n",
       "dtype: int64"
      ]
     },
     "execution_count": 23,
     "metadata": {},
     "output_type": "execute_result"
    }
   ],
   "source": [
    "# PerformanceRating have 2 values and are very similar.\n",
    "df.groupby(['PerformanceRating']).size().sort_values(ascending=False)"
   ]
  },
  {
   "cell_type": "code",
   "execution_count": 24,
   "id": "3e0ebb36",
   "metadata": {},
   "outputs": [],
   "source": [
    "df = df.drop(['EmployeeCount', 'Over18', 'StockOptionLevel', 'PerformanceRating'], axis=1)"
   ]
  },
  {
   "cell_type": "code",
   "execution_count": 25,
   "id": "378966eb",
   "metadata": {},
   "outputs": [
    {
     "name": "stdout",
     "output_type": "stream",
     "text": [
      "Index(['Age', 'Attrition', 'BusinessTravel', 'DailyRate', 'Department',\n",
      "       'DistanceFromHome', 'Education', 'EducationField', 'EmployeeNumber',\n",
      "       'EnvironmentSatisfaction', 'Gender', 'HourlyRate', 'JobInvolvement',\n",
      "       'JobLevel', 'JobRole', 'JobSatisfaction', 'MaritalStatus',\n",
      "       'MonthlyIncome', 'MonthlyRate', 'NumCompaniesWorked', 'OverTime',\n",
      "       'PercentSalaryHike', 'RelationshipSatisfaction', 'StandardHours',\n",
      "       'TotalWorkingYears', 'TrainingTimesLastYear', 'WorkLifeBalance',\n",
      "       'YearsAtCompany', 'YearsInCurrentRole', 'YearsSinceLastPromotion',\n",
      "       'YearsWithCurrManager'],\n",
      "      dtype='object')\n"
     ]
    }
   ],
   "source": [
    "# prints out names of columns\n",
    "print(df.columns)"
   ]
  },
  {
   "cell_type": "code",
   "execution_count": 26,
   "id": "28b1acce",
   "metadata": {},
   "outputs": [
    {
     "name": "stdout",
     "output_type": "stream",
     "text": [
      "The df has 1470 rows and 31 columns.\n"
     ]
    }
   ],
   "source": [
    "# checking the df shape\n",
    "print('The df has {} rows and {} columns.'.format(*df.shape))\n",
    "#The df has 10339 rows and 15 columns."
   ]
  },
  {
   "cell_type": "code",
   "execution_count": 27,
   "id": "5f22a5eb",
   "metadata": {},
   "outputs": [
    {
     "name": "stdout",
     "output_type": "stream",
     "text": [
      "                                        0\n",
      "Age                                    41\n",
      "Attrition                             Yes\n",
      "BusinessTravel              Travel_Rarely\n",
      "DailyRate                            1102\n",
      "Department                          Sales\n",
      "DistanceFromHome                        1\n",
      "Education                         College\n",
      "EducationField              Life Sciences\n",
      "EmployeeNumber                          1\n",
      "EnvironmentSatisfaction                 2\n",
      "Gender                             Female\n",
      "HourlyRate                             94\n",
      "JobInvolvement                          3\n",
      "JobLevel                                2\n",
      "JobRole                   Sales Executive\n",
      "JobSatisfaction                         4\n",
      "MaritalStatus                      Single\n",
      "MonthlyIncome                        5993\n",
      "MonthlyRate                         19479\n",
      "NumCompaniesWorked                      8\n",
      "OverTime                              Yes\n",
      "PercentSalaryHike                      11\n",
      "RelationshipSatisfaction                1\n",
      "StandardHours                          80\n",
      "TotalWorkingYears                       8\n",
      "TrainingTimesLastYear                   0\n",
      "WorkLifeBalance                       Bad\n",
      "YearsAtCompany                          6\n",
      "YearsInCurrentRole                      4\n",
      "YearsSinceLastPromotion                 0\n",
      "YearsWithCurrManager                    5\n"
     ]
    }
   ],
   "source": [
    "# prints out the first row for the dataset\n",
    "print(df.head(1).transpose())"
   ]
  },
  {
   "cell_type": "code",
   "execution_count": 28,
   "id": "5df84775",
   "metadata": {},
   "outputs": [
    {
     "name": "stdout",
     "output_type": "stream",
     "text": [
      "                           count          mean          std     min      25%  \\\n",
      "Age                       1470.0     36.923810     9.135373    18.0    30.00   \n",
      "DailyRate                 1470.0    802.485714   403.509100   102.0   465.00   \n",
      "DistanceFromHome          1470.0      9.192517     8.106864     1.0     2.00   \n",
      "EmployeeNumber            1470.0   1024.865306   602.024335     1.0   491.25   \n",
      "EnvironmentSatisfaction   1470.0      2.721769     1.093082     1.0     2.00   \n",
      "HourlyRate                1470.0     65.891156    20.329428    30.0    48.00   \n",
      "JobInvolvement            1470.0      2.729932     0.711561     1.0     2.00   \n",
      "JobLevel                  1470.0      2.063946     1.106940     1.0     1.00   \n",
      "JobSatisfaction           1470.0      2.728571     1.102846     1.0     2.00   \n",
      "MonthlyIncome             1470.0   6502.931293  4707.956783  1009.0  2911.00   \n",
      "MonthlyRate               1470.0  14313.103401  7117.786044  2094.0  8047.00   \n",
      "NumCompaniesWorked        1470.0      2.693197     2.498009     0.0     1.00   \n",
      "PercentSalaryHike         1470.0     15.209524     3.659938    11.0    12.00   \n",
      "RelationshipSatisfaction  1470.0      2.712245     1.081209     1.0     2.00   \n",
      "StandardHours             1470.0     80.000000     0.000000    80.0    80.00   \n",
      "TotalWorkingYears         1470.0     11.279592     7.780782     0.0     6.00   \n",
      "TrainingTimesLastYear     1470.0      2.799320     1.289271     0.0     2.00   \n",
      "YearsAtCompany            1470.0      7.008163     6.126525     0.0     3.00   \n",
      "YearsInCurrentRole        1470.0      4.229252     3.623137     0.0     2.00   \n",
      "YearsSinceLastPromotion   1470.0      2.187755     3.222430     0.0     0.00   \n",
      "YearsWithCurrManager      1470.0      4.123129     3.568136     0.0     2.00   \n",
      "\n",
      "                              50%       75%      max  \n",
      "Age                          36.0     43.00     60.0  \n",
      "DailyRate                   802.0   1157.00   1499.0  \n",
      "DistanceFromHome              7.0     14.00     29.0  \n",
      "EmployeeNumber             1020.5   1555.75   2068.0  \n",
      "EnvironmentSatisfaction       3.0      4.00      4.0  \n",
      "HourlyRate                   66.0     83.75    100.0  \n",
      "JobInvolvement                3.0      3.00      4.0  \n",
      "JobLevel                      2.0      3.00      5.0  \n",
      "JobSatisfaction               3.0      4.00      4.0  \n",
      "MonthlyIncome              4919.0   8379.00  19999.0  \n",
      "MonthlyRate               14235.5  20461.50  26999.0  \n",
      "NumCompaniesWorked            2.0      4.00      9.0  \n",
      "PercentSalaryHike            14.0     18.00     25.0  \n",
      "RelationshipSatisfaction      3.0      4.00      4.0  \n",
      "StandardHours                80.0     80.00     80.0  \n",
      "TotalWorkingYears            10.0     15.00     40.0  \n",
      "TrainingTimesLastYear         3.0      3.00      6.0  \n",
      "YearsAtCompany                5.0      9.00     40.0  \n",
      "YearsInCurrentRole            3.0      7.00     18.0  \n",
      "YearsSinceLastPromotion       1.0      3.00     15.0  \n",
      "YearsWithCurrManager          3.0      7.00     17.0  \n"
     ]
    }
   ],
   "source": [
    "# checking for counts data and gives Mean, Sd and quartiles for all columns\n",
    "print(df.describe().transpose())"
   ]
  },
  {
   "cell_type": "markdown",
   "id": "f740452d",
   "metadata": {},
   "source": [
    "#### Target Variable: Attrition"
   ]
  },
  {
   "cell_type": "code",
   "execution_count": 29,
   "id": "34fa316c",
   "metadata": {},
   "outputs": [
    {
     "data": {
      "text/plain": [
       "Attrition\n",
       "No     1233\n",
       "Yes     237\n",
       "dtype: int64"
      ]
     },
     "execution_count": 29,
     "metadata": {},
     "output_type": "execute_result"
    }
   ],
   "source": [
    "# Attrition \n",
    "df.groupby(['Attrition']).size().sort_values(ascending=False)"
   ]
  },
  {
   "cell_type": "markdown",
   "id": "2220b013",
   "metadata": {},
   "source": [
    "## Data Visualisation"
   ]
  },
  {
   "cell_type": "code",
   "execution_count": null,
   "id": "5e01d0be",
   "metadata": {},
   "outputs": [],
   "source": []
  },
  {
   "cell_type": "code",
   "execution_count": null,
   "id": "d30791ad",
   "metadata": {},
   "outputs": [],
   "source": []
  },
  {
   "cell_type": "code",
   "execution_count": null,
   "id": "49a9d873",
   "metadata": {},
   "outputs": [],
   "source": []
  },
  {
   "cell_type": "code",
   "execution_count": null,
   "id": "8f5cddfc",
   "metadata": {},
   "outputs": [],
   "source": []
  },
  {
   "cell_type": "code",
   "execution_count": null,
   "id": "624b4c84",
   "metadata": {},
   "outputs": [],
   "source": []
  },
  {
   "cell_type": "code",
   "execution_count": null,
   "id": "25c07f7d",
   "metadata": {},
   "outputs": [],
   "source": []
  },
  {
   "cell_type": "code",
   "execution_count": null,
   "id": "3e121ebd",
   "metadata": {},
   "outputs": [],
   "source": []
  },
  {
   "cell_type": "code",
   "execution_count": null,
   "id": "24a273b6",
   "metadata": {},
   "outputs": [],
   "source": []
  },
  {
   "cell_type": "code",
   "execution_count": null,
   "id": "9479ad57",
   "metadata": {},
   "outputs": [],
   "source": []
  },
  {
   "cell_type": "code",
   "execution_count": null,
   "id": "e2a3463f",
   "metadata": {},
   "outputs": [],
   "source": []
  },
  {
   "cell_type": "markdown",
   "id": "192ba37f",
   "metadata": {},
   "source": [
    "## Modelling"
   ]
  },
  {
   "cell_type": "code",
   "execution_count": null,
   "id": "21ace7e9",
   "metadata": {},
   "outputs": [],
   "source": []
  },
  {
   "cell_type": "markdown",
   "id": "0ae32e85",
   "metadata": {},
   "source": [
    "## Model Evaluation"
   ]
  },
  {
   "cell_type": "code",
   "execution_count": null,
   "id": "54bd6bfc",
   "metadata": {},
   "outputs": [],
   "source": []
  },
  {
   "cell_type": "markdown",
   "id": "f3f3f270",
   "metadata": {},
   "source": [
    "## Limitations"
   ]
  },
  {
   "cell_type": "code",
   "execution_count": null,
   "id": "07ed0a64",
   "metadata": {},
   "outputs": [],
   "source": []
  },
  {
   "cell_type": "markdown",
   "id": "1f46fd69",
   "metadata": {},
   "source": [
    "## Deployment"
   ]
  },
  {
   "cell_type": "code",
   "execution_count": null,
   "id": "56f9dec6",
   "metadata": {},
   "outputs": [],
   "source": []
  },
  {
   "cell_type": "markdown",
   "id": "cf282d8b",
   "metadata": {},
   "source": [
    "## Conclusion"
   ]
  },
  {
   "cell_type": "code",
   "execution_count": null,
   "id": "93df98e6",
   "metadata": {},
   "outputs": [],
   "source": []
  },
  {
   "cell_type": "markdown",
   "id": "c251710a",
   "metadata": {},
   "source": [
    "## Reference"
   ]
  },
  {
   "cell_type": "code",
   "execution_count": null,
   "id": "087ca88f",
   "metadata": {},
   "outputs": [],
   "source": []
  }
 ],
 "metadata": {
  "kernelspec": {
   "display_name": "Python 3 (ipykernel)",
   "language": "python",
   "name": "python3"
  },
  "language_info": {
   "codemirror_mode": {
    "name": "ipython",
    "version": 3
   },
   "file_extension": ".py",
   "mimetype": "text/x-python",
   "name": "python",
   "nbconvert_exporter": "python",
   "pygments_lexer": "ipython3",
   "version": "3.9.7"
  }
 },
 "nbformat": 4,
 "nbformat_minor": 5
}
